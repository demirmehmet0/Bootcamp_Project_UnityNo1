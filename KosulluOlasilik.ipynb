{
  "nbformat": 4,
  "nbformat_minor": 0,
  "metadata": {
    "colab": {
      "provenance": [],
      "authorship_tag": "ABX9TyNGtGbrrMq+zsoQpCDvEbj7",
      "include_colab_link": true
    },
    "kernelspec": {
      "name": "python3",
      "display_name": "Python 3"
    },
    "language_info": {
      "name": "python"
    }
  },
  "cells": [
    {
      "cell_type": "markdown",
      "metadata": {
        "id": "view-in-github",
        "colab_type": "text"
      },
      "source": [
        "<a href=\"https://colab.research.google.com/github/demirmehmet0/Bootcamp_Project_UnityNo1/blob/main/KosulluOlasilik.ipynb\" target=\"_parent\"><img src=\"https://colab.research.google.com/assets/colab-badge.svg\" alt=\"Open In Colab\"/></a>"
      ]
    },
    {
      "cell_type": "markdown",
      "source": [
        "#KOŞULLU OLASILIK"
      ],
      "metadata": {
        "id": "CyASd3LJ8PUe"
      }
    },
    {
      "cell_type": "markdown",
      "source": [
        "##Soru\n",
        "#### Jones’un çalıştığı bir organizasyon en az 1 oğlu olan işçiler için baba-oğul yemeği düzenlemektedir. Bu işçilerden her biri en genç oğlu ile birlikte davete katılacaktır. Eğer Jones’un iki çocuğu olduğu biliyorsa Jones’un akşam yemeğine davet edildiği bilgisi verildiğinde iki çocuğunda oğlan olma olasılığı nedir?"
      ],
      "metadata": {
        "id": "RIFJOag48Bbw"
      }
    },
    {
      "cell_type": "code",
      "execution_count": 1,
      "metadata": {
        "colab": {
          "base_uri": "https://localhost:8080/"
        },
        "id": "mqyxZZUrjg9h",
        "outputId": "f3fb256c-3073-4c5f-e35c-c4f71b8d1b3c"
      },
      "outputs": [
        {
          "output_type": "stream",
          "name": "stdout",
          "text": [
            "İki çocuğun da erkek olması olasılığı P(E/F) = 0.33\n"
          ]
        }
      ],
      "source": [
        "# S={(e,e),(e,k),(k,e),(k,k)}\n",
        "# E= Iki cocugunda erkek olmasi\n",
        "# F= En az bir cocugun erkek olmasi\n",
        "# P(E/F) = P((e,e))/P((e,e),(e,k),(k,e)) = (1/4)/(3/4) = 0.33\n",
        "\n",
        "# Olası çocuk cinsiyetleri\n",
        "S = {('e', 'e'), ('e', 'k'), ('k', 'e'), ('k', 'k')}\n",
        "\n",
        "# En az bir çocuğun erkek olması olayı\n",
        "F = {('e', 'e'), ('e', 'k'), ('k', 'e')}\n",
        "\n",
        "# İki çocuğunun erkek olması olayı\n",
        "E = {('e', 'e')}\n",
        "\n",
        "# P(E/F) hesaplama\n",
        "PEF = len(E & F) / len(F)\n",
        "\n",
        "print(f\"İki çocuğun da erkek olması olasılığı P(E/F) = {PEF:.2f}\")"
      ]
    }
  ]
}